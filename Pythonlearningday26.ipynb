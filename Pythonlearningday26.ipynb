{
  "nbformat": 4,
  "nbformat_minor": 0,
  "metadata": {
    "colab": {
      "provenance": []
    },
    "kernelspec": {
      "name": "python3",
      "display_name": "Python 3"
    },
    "language_info": {
      "name": "python"
    }
  },
  "cells": [
    {
      "cell_type": "code",
      "execution_count": null,
      "metadata": {
        "id": "7xL5du5K-TY_"
      },
      "outputs": [],
      "source": [
        "class Student:\n",
        "  ids=10\n",
        "\n",
        "\n",
        "  @staticmethod\n",
        "  def info():\n",
        "    print(\"hey\")"
      ]
    },
    {
      "cell_type": "code",
      "source": [
        "Student.info()"
      ],
      "metadata": {
        "colab": {
          "base_uri": "https://localhost:8080/"
        },
        "id": "SGIKtW3m_3Lx",
        "outputId": "84d64187-84db-458b-8e83-01329e267968"
      },
      "execution_count": null,
      "outputs": [
        {
          "output_type": "stream",
          "name": "stdout",
          "text": [
            "hey\n"
          ]
        }
      ]
    },
    {
      "cell_type": "code",
      "source": [
        "s1=Student()\n",
        "s1.info()"
      ],
      "metadata": {
        "colab": {
          "base_uri": "https://localhost:8080/"
        },
        "id": "iT1ODPat_rPH",
        "outputId": "ab1ae8dc-df14-40ae-b9f5-2f4d2fff9381"
      },
      "execution_count": null,
      "outputs": [
        {
          "output_type": "stream",
          "name": "stdout",
          "text": [
            "hey\n"
          ]
        }
      ]
    },
    {
      "cell_type": "code",
      "source": [
        "class Student:\n",
        "  ids=10\n",
        "\n",
        "\n",
        "  @staticmethod\n",
        "  def info(x):\n",
        "    print(\"hey\",x)"
      ],
      "metadata": {
        "id": "0Z4KQIkB_wo9"
      },
      "execution_count": null,
      "outputs": []
    },
    {
      "cell_type": "code",
      "source": [
        "Student.info(100)"
      ],
      "metadata": {
        "colab": {
          "base_uri": "https://localhost:8080/"
        },
        "id": "FCJJLzgcBrZT",
        "outputId": "a43501b9-17df-4cb3-99d0-9680069d5338"
      },
      "execution_count": null,
      "outputs": [
        {
          "output_type": "stream",
          "name": "stdout",
          "text": [
            "hey 100\n"
          ]
        }
      ]
    },
    {
      "cell_type": "code",
      "source": [
        "# agar mujhe class se jhuda hua chahiye magar mujhe koi funtion read and write karna hai toh @staticmethod use kar skte hai\n"
      ],
      "metadata": {
        "id": "w8C-fFPtBu87"
      },
      "execution_count": null,
      "outputs": []
    },
    {
      "cell_type": "code",
      "source": [
        "class Student:\n",
        "  company=\"regex\"      #class variable\n",
        "  def __init__(self,course):\n",
        "    self.course=course                    #self.course is instance variable\n",
        "\n",
        "  def check(self):        # check is instance method\n",
        "    print(\"this check course\",self.course, self.company)\n",
        "\n",
        "  @staticmethod\n",
        "  def ageCheck(age):\n",
        "    return age>=18"
      ],
      "metadata": {
        "id": "n3_VY4FkCazK"
      },
      "execution_count": null,
      "outputs": []
    },
    {
      "cell_type": "code",
      "source": [
        "s1=Student(\"python\")\n",
        "s1.check()\n",
        "s1.ageCheck(18)"
      ],
      "metadata": {
        "colab": {
          "base_uri": "https://localhost:8080/"
        },
        "id": "3d2N5psKDM_X",
        "outputId": "ef71cc46-2da9-4f84-cb61-e8943b95e872"
      },
      "execution_count": null,
      "outputs": [
        {
          "output_type": "stream",
          "name": "stdout",
          "text": [
            "this check course python regex\n"
          ]
        },
        {
          "output_type": "execute_result",
          "data": {
            "text/plain": [
              "True"
            ]
          },
          "metadata": {},
          "execution_count": 45
        }
      ]
    },
    {
      "cell_type": "code",
      "source": [
        "class Doller:\n",
        "  def __init__(self, amount):\n",
        "    self.amount=amount\n",
        "  def __repr__(self):\n",
        "    return f\"Doller class has {self.amount}\"\n",
        "\n",
        "  @classmethod\n",
        "  def addValue(cls,x,y):\n",
        "    return cls(x+y)\n",
        "\n",
        "#class(30)\n",
        "d1=Doller(10)\n",
        "print(d1.addValue(10,20))"
      ],
      "metadata": {
        "colab": {
          "base_uri": "https://localhost:8080/"
        },
        "id": "wii2ZcqVDUfC",
        "outputId": "71929172-04b7-4054-8c86-fb76a087b0e1"
      },
      "execution_count": null,
      "outputs": [
        {
          "output_type": "stream",
          "name": "stdout",
          "text": [
            "Doller class has 30\n"
          ]
        }
      ]
    },
    {
      "cell_type": "code",
      "source": [
        "class Euro(Doller):\n",
        "  def __init__(self, amount):\n",
        "    self.amount=amount\n",
        "  def __repr__(self):\n",
        "    return f\"Euro class has: {self.amount}\""
      ],
      "metadata": {
        "id": "5g2tY_9QE86t"
      },
      "execution_count": null,
      "outputs": []
    },
    {
      "cell_type": "code",
      "source": [
        "e1=Euro(200)\n",
        "e1.addValue(50,20)"
      ],
      "metadata": {
        "colab": {
          "base_uri": "https://localhost:8080/"
        },
        "id": "RrGjISIuISl2",
        "outputId": "b1bc00cd-c919-481f-f76e-e4018cee79d5"
      },
      "execution_count": null,
      "outputs": [
        {
          "output_type": "execute_result",
          "data": {
            "text/plain": [
              "Euro class has: 70"
            ]
          },
          "metadata": {},
          "execution_count": 63
        }
      ]
    },
    {
      "cell_type": "code",
      "source": [
        "class Test:\n",
        "  y=2000\n",
        "  def __init__(self,x):\n",
        "    self.x=x\n",
        "\n",
        "  def info(self):\n",
        "    print(\"instance method =\",self.x, self.y)\n",
        "\n",
        "  @staticmethod\n",
        "  def info2(amount):\n",
        "    print(\"static method =\",amount)\n",
        "\n",
        "  @classmethod\n",
        "  def info3(cls):\n",
        "    print(\"class method =\",cls)\n"
      ],
      "metadata": {
        "id": "agrCU5lSIU1p"
      },
      "execution_count": null,
      "outputs": []
    },
    {
      "cell_type": "code",
      "source": [
        "t1=Test(10)\n",
        "t1.info()"
      ],
      "metadata": {
        "colab": {
          "base_uri": "https://localhost:8080/"
        },
        "id": "wlk1gqIuLnmf",
        "outputId": "9612188b-c70d-494f-c405-52ff25c010c9"
      },
      "execution_count": null,
      "outputs": [
        {
          "output_type": "stream",
          "name": "stdout",
          "text": [
            "instance method = 10 2000\n"
          ]
        }
      ]
    }
  ]
}